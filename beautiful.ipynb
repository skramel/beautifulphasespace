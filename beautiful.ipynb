{
 "cells": [
  {
   "cell_type": "markdown",
   "metadata": {},
   "source": [
    "# The Beautiful Phase Space"
   ]
  },
  {
   "cell_type": "raw",
   "metadata": {},
   "source": [
    "Start with Cantor Set"
   ]
  },
  {
   "cell_type": "code",
   "execution_count": 9,
   "metadata": {},
   "outputs": [
    {
     "name": "stdout",
     "output_type": "stream",
     "text": [
      "[0.0, 0.037037037037037035, 0.07407407407407407, 0.1111111111111111, 0.2222222222222222, 0.25925925925925924, 0.2962962962962963, 0.3333333333333333, 0.6666666666666666, 0.7037037037037037, 0.7407407407407407, 0.7777777777777777, 0.8888888888888888, 0.9259259259259258, 0.9629629629629629, 1.0]\n"
     ]
    }
   ],
   "source": [
    "lb = 0.\n",
    "ub = 1.\n",
    "\n",
    "def cantor(n, lb, ub):\n",
    "    return [lb] + cant(lb, ub, n) + [ub]\n",
    "\n",
    "def cant(x, y, n):\n",
    "    if n == 0:\n",
    "        return []\n",
    "\n",
    "    new_pts = [2.*x/3. + y/3., x/3. + 2.*y/3.]\n",
    "    return cant(x, new_pts[0], n-1) + new_pts + cant(new_pts[1], y, n-1)\n",
    "\n",
    "# for i in range(4):\n",
    "#    print(i, cantor(i))\n",
    "\n",
    "print(cantor(3, lb, ub))"
   ]
  },
  {
   "cell_type": "code",
   "execution_count": 12,
   "metadata": {},
   "outputs": [
    {
     "data": {
      "text/plain": [
       "[<matplotlib.lines.Line2D at 0x11109fb50>]"
      ]
     },
     "execution_count": 12,
     "metadata": {},
     "output_type": "execute_result"
    },
    {
     "data": {
      "image/png": "[encoded data removed]",
      "text/plain": [
       "<Figure size 432x288 with 1 Axes>"
      ]
     },
     "metadata": {
      "needs_background": "light"
     },
     "output_type": "display_data"
    }
   ],
   "source": [
    "%matplotlib inline\n",
    "from matplotlib import pyplot as plt\n",
    "plt.plot(cantor(10, lb, ub))"
   ]
  },
  {
   "cell_type": "code",
   "execution_count": 14,
   "metadata": {},
   "outputs": [
    {
     "name": "stdout",
     "output_type": "stream",
     "text": [
      "Collecting scipy\n",
      "  Using cached scipy-1.5.4-cp39-cp39-macosx_10_9_x86_64.whl (29.1 MB)\n",
      "Requirement already satisfied: numpy>=1.14.5 in /usr/local/Cellar/jupyterlab/2.2.9_1/libexec/lib/python3.9/site-packages (from scipy) (1.19.4)\n",
      "Installing collected packages: scipy\n",
      "Successfully installed scipy-1.5.4\n"
     ]
    }
   ],
   "source": [
    "import sys\n",
    "!{sys.executable} -m pip install scipy"
   ]
  },
  {
   "cell_type": "code",
   "execution_count": 1,
   "metadata": {},
   "outputs": [],
   "source": [
    "from matplotlib import pyplot as plt\n",
    "import numpy as np"
   ]
  },
  {
   "cell_type": "code",
   "execution_count": 40,
   "metadata": {},
   "outputs": [
    {
     "data": {
      "text/plain": [
       "array([1.00000e-05, 1.01020e-01, 2.02030e-01, 3.03040e-01, 4.04050e-01,\n",
       "       5.05060e-01, 6.06070e-01, 7.07080e-01, 8.08090e-01, 9.09100e-01,\n",
       "       1.01011e+00, 1.11112e+00, 1.21213e+00, 1.31314e+00, 1.41415e+00,\n",
       "       1.51516e+00, 1.61617e+00, 1.71718e+00, 1.81819e+00, 1.91920e+00,\n",
       "       2.02021e+00, 2.12122e+00, 2.22223e+00, 2.32324e+00, 2.42425e+00,\n",
       "       2.52526e+00, 2.62627e+00, 2.72728e+00, 2.82829e+00, 2.92930e+00,\n",
       "       3.03031e+00, 3.13132e+00, 3.23233e+00, 3.33334e+00, 3.43435e+00,\n",
       "       3.53536e+00, 3.63637e+00, 3.73738e+00, 3.83839e+00, 3.93940e+00,\n",
       "       4.04041e+00, 4.14142e+00, 4.24243e+00, 4.34344e+00, 4.44445e+00,\n",
       "       4.54546e+00, 4.64647e+00, 4.74748e+00, 4.84849e+00, 4.94950e+00,\n",
       "       5.05051e+00, 5.15152e+00, 5.25253e+00, 5.35354e+00, 5.45455e+00,\n",
       "       5.55556e+00, 5.65657e+00, 5.75758e+00, 5.85859e+00, 5.95960e+00,\n",
       "       6.06061e+00, 6.16162e+00, 6.26263e+00, 6.36364e+00, 6.46465e+00,\n",
       "       6.56566e+00, 6.66667e+00, 6.76768e+00, 6.86869e+00, 6.96970e+00,\n",
       "       7.07071e+00, 7.17172e+00, 7.27273e+00, 7.37374e+00, 7.47475e+00,\n",
       "       7.57576e+00, 7.67677e+00, 7.77778e+00, 7.87879e+00, 7.97980e+00,\n",
       "       8.08081e+00, 8.18182e+00, 8.28283e+00, 8.38384e+00, 8.48485e+00,\n",
       "       8.58586e+00, 8.68687e+00, 8.78788e+00, 8.88889e+00, 8.98990e+00,\n",
       "       9.09091e+00, 9.19192e+00, 9.29293e+00, 9.39394e+00, 9.49495e+00,\n",
       "       9.59596e+00, 9.69697e+00, 9.79798e+00, 9.89899e+00, 1.00000e+01])"
      ]
     },
     "execution_count": 40,
     "metadata": {},
     "output_type": "execute_result"
    }
   ],
   "source": [
    "xx = np.linspace(0.00001,10,100)\n",
    "xx"
   ]
  },
  {
   "cell_type": "code",
   "execution_count": 41,
   "metadata": {},
   "outputs": [],
   "source": [
    "yy = 1./xx * xx**(1./xx) + 1./xx"
   ]
  },
  {
   "cell_type": "code",
   "execution_count": 42,
   "metadata": {},
   "outputs": [
    {
     "data": {
      "text/plain": [
       "[<matplotlib.lines.Line2D at 0x7f8ec31a99d0>]"
      ]
     },
     "execution_count": 42,
     "metadata": {},
     "output_type": "execute_result"
    },
    {
     "data": {
      "image/png": "[encoded data removed]",
      "text/plain": [
       "<Figure size 432x288 with 1 Axes>"
      ]
     },
     "metadata": {
      "needs_background": "light"
     },
     "output_type": "display_data"
    }
   ],
   "source": [
    "plt.plot(xx,yy)"
   ]
  },
  {
   "cell_type": "code",
   "execution_count": 35,
   "metadata": {},
   "outputs": [
    {
     "data": {
      "text/plain": [
       "2"
      ]
     },
     "execution_count": 35,
     "metadata": {},
     "output_type": "execute_result"
    }
   ],
   "source": [
    "1*1**1+1"
   ]
  },
  {
   "cell_type": "code",
   "execution_count": null,
   "metadata": {},
   "outputs": [],
   "source": []
  }
 ],
 "metadata": {
  "kernelspec": {
   "display_name": "Python 3",
   "language": "python",
   "name": "python3"
  },
  "language_info": {
   "codemirror_mode": {
    "name": "ipython",
    "version": 3
   },
   "file_extension": ".py",
   "mimetype": "text/x-python",
   "name": "python",
   "nbconvert_exporter": "python",
   "pygments_lexer": "ipython3",
   "version": "3.8.5"
  }
 },
 "nbformat": 4,
 "nbformat_minor": 4
}
